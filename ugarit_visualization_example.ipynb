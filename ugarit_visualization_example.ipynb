{
 "cells": [
  {
   "cell_type": "code",
   "execution_count": 1,
   "metadata": {},
   "outputs": [
    {
     "data": {
      "text/html": [
       "\n",
       "        <script src=\"https://ajax.googleapis.com/ajax/libs/jquery/3.4.1/jquery.min.js\"></script>\n",
       "        <script>\n",
       "        $(document).on('mouseover', \"span[data-ref^='ref_']\", function(e) {\n",
       "            var ref = document.getElementById(e.target.id).getAttribute('data-ref');\n",
       "            console.log(e.target.id);\n",
       "            console.log(ref);\n",
       "            var cls = document.getElementById(e.target.id).getAttribute('class');\n",
       "            if(cls==\"aligned\"){\n",
       "                $(\"span[data-ref='\"+ref+\"']\").each(function(index){\n",
       "                    $(this).addClass(\"highlighted \");\n",
       "                });\n",
       "            }\n",
       "        });\n",
       "        $(document).on('mouseout', \"span[data-ref^='ref_']\", function(e) {\n",
       "            var ref = document.getElementById(e.target.id).getAttribute('data-ref');\n",
       "            var cls = document.getElementById(e.target.id).getAttribute('class');\n",
       "            if(cls==\"aligned highlighted\") {\n",
       "                $(\"span[data-ref='\" + ref + \"']\").each(function (index) {\n",
       "                    $(this).removeClass(\"highlighted \");\n",
       "                });\n",
       "            }\n",
       "        });\n",
       "        </script>\n",
       "        <style>\n",
       "            .aligned{ color: #5cb85c; \n",
       "                     background-color:\n",
       "                     #FFFFFF; \n",
       "                     padding: 2px;}\n",
       "\n",
       "            .highlighted{\n",
       "                cursor: pointer; \n",
       "                background-color:#c65353; \n",
       "                color:#FFFFFF;; \n",
       "                padding: 2px; \n",
       "                border-radius: 5px; }\n",
       "\n",
       "            .alignment{\n",
       "                border-radius: 5px;\n",
       "                border:1px solid #ccc; \n",
       "                padding: 10px; \n",
       "            }\n",
       "            </style>"
      ],
      "text/plain": [
       "<IPython.core.display.HTML object>"
      ]
     },
     "metadata": {},
     "output_type": "display_data"
    },
    {
     "data": {
      "text/html": [
       "<div class=\"row alignment\"><div class=\"col-md-5\"><span id=\"al1_s1_0\" data-ref=\"ref_1al1_\" class=\"aligned\" >Resumption</span> <span id=\"al1_s1_1\" data-ref=\"ref_2al1_\" class=\"aligned\" >of</span> <span id=\"al1_s1_2\" data-ref=\"ref_3al1_\" class=\"aligned\" >the</span> <span id=\"al1_s1_3\" data-ref=\"ref_0al1_\" class=\"aligned\" >session</span></div><div class=\"col-md-2\"></div><div class=\"col-md-5\"><span id=\"al1_al1_s2_0\" data-ref=\"ref_1al1_\" class=\"aligned\" >Reprise</span> <span id=\"al1_al1_s2_1\" data-ref=\"ref_2al1_\" class=\"aligned\" >de</span> <span id=\"al1_al1_s2_2\" data-ref=\"ref_3al1_\" class=\"aligned\" >la</span> <span id=\"al1_al1_s2_3\" data-ref=\"ref_0al1_\" class=\"aligned\" >session</span></div></div>"
      ],
      "text/plain": [
       "<IPython.core.display.HTML object>"
      ]
     },
     "metadata": {},
     "output_type": "display_data"
    },
    {
     "data": {
      "text/html": [
       "<div class=\"row alignment\"><div class=\"col-md-5\"><span id=\"al2_s1_0\" data-ref=\"ref_22al2_\" class=\"aligned\" >I</span> <span id=\"al2_s1_1\" data-ref=\"ref_20al2_\" class=\"aligned\" >declare</span> <span id=\"al2_s1_2\" data-ref=\"ref_16al2_\" class=\"aligned\" >resumed</span> <span id=\"al2_s1_3\" data-ref=\"ref_12al2_\" class=\"aligned\" >the</span> <span id=\"al2_s1_4\" data-ref=\"ref_14al2_\" class=\"aligned\" >session</span> <span id=\"al2_s1_5\" data-ref=\"ref_13al2_\" class=\"aligned\" >of</span> <span id=\"al2_s1_6\" data-ref=\"ref_13al2_\" class=\"aligned\" >the</span> <span id=\"al2_s1_7\" data-ref=\"ref_5al2_\" class=\"aligned\" >European</span> <span id=\"al2_s1_8\" data-ref=\"ref_18al2_\" class=\"aligned\" >Parliament</span> <span id=\"al2_s1_9\" data-ref=\"ref_2al2_\" class=\"aligned\" >adjourned</span> <span id=\"al2_s1_10\" data-ref=\"ref_15al2_\" class=\"aligned\" >on</span> <span id=\"al2_s1_11\" data-ref=\"ref_21al2_\" class=\"aligned\" >Friday</span> <span id=\"al2_s1_12\" data-ref=\"ref_23al2_\" class=\"aligned\" >17</span> <span id=\"al2_s1_13\" data-ref=\"ref_24al2_\" class=\"aligned\" >December</span> <span id=\"al2_s1_14\" data-ref=\"ref_28al2_\" class=\"aligned\" >1999</span> <span id=\"al2_s1_15\" data-ref=\"al2_\" class=\"\" >,</span> <span id=\"al2_s1_16\" data-ref=\"ref_9al2_\" class=\"aligned\" >and</span> <span id=\"al2_s1_17\" data-ref=\"ref_27al2_\" class=\"aligned\" >I</span> <span id=\"al2_s1_18\" data-ref=\"ref_8al2_\" class=\"aligned\" >would</span> <span id=\"al2_s1_19\" data-ref=\"ref_3al2_\" class=\"aligned\" >like</span> <span id=\"al2_s1_20\" data-ref=\"ref_3al2_\" class=\"aligned\" >once</span> <span id=\"al2_s1_21\" data-ref=\"ref_3al2_\" class=\"aligned\" >again</span> <span id=\"al2_s1_22\" data-ref=\"al2_\" class=\"\" >to</span> <span id=\"al2_s1_23\" data-ref=\"al2_\" class=\"\" >wish</span> <span id=\"al2_s1_24\" data-ref=\"al2_\" class=\"\" >you</span> <span id=\"al2_s1_25\" data-ref=\"al2_\" class=\"\" >a</span> <span id=\"al2_s1_26\" data-ref=\"al2_\" class=\"\" >happy</span> <span id=\"al2_s1_27\" data-ref=\"al2_\" class=\"\" >new</span> <span id=\"al2_s1_28\" data-ref=\"al2_\" class=\"\" >year</span> <span id=\"al2_s1_29\" data-ref=\"ref_30al2_\" class=\"aligned\" >in</span> <span id=\"al2_s1_30\" data-ref=\"al2_\" class=\"\" >the</span> <span id=\"al2_s1_31\" data-ref=\"ref_17al2_\" class=\"aligned\" >hope</span> <span id=\"al2_s1_32\" data-ref=\"ref_0al2_\" class=\"aligned\" >that</span> <span id=\"al2_s1_33\" data-ref=\"ref_4al2_\" class=\"aligned\" >you</span> <span id=\"al2_s1_34\" data-ref=\"ref_11al2_\" class=\"aligned\" >enjoyed</span> <span id=\"al2_s1_35\" data-ref=\"ref_29al2_\" class=\"aligned\" >a</span> <span id=\"al2_s1_36\" data-ref=\"ref_3al2_\" class=\"aligned\" >pleasant</span> <span id=\"al2_s1_37\" data-ref=\"ref_3al2_\" class=\"aligned\" >festive</span> <span id=\"al2_s1_38\" data-ref=\"ref_6al2_\" class=\"aligned\" >period</span> <span id=\"al2_s1_39\" data-ref=\"ref_1al2_\" class=\"aligned\" >.</span></div><div class=\"col-md-2\"></div><div class=\"col-md-5\"><span id=\"al2_al2_s2_0\" data-ref=\"ref_22al2_\" class=\"aligned\" >Je</span> <span id=\"al2_al2_s2_1\" data-ref=\"ref_20al2_\" class=\"aligned\" >déclare</span> <span id=\"al2_al2_s2_2\" data-ref=\"ref_16al2_\" class=\"aligned\" >reprise</span> <span id=\"al2_al2_s2_3\" data-ref=\"ref_12al2_\" class=\"aligned\" >la</span> <span id=\"al2_al2_s2_4\" data-ref=\"ref_14al2_\" class=\"aligned\" >session</span> <span id=\"al2_al2_s2_5\" data-ref=\"ref_13al2_\" class=\"aligned\" >du</span> <span id=\"al2_al2_s2_6\" data-ref=\"ref_18al2_\" class=\"aligned\" >Parlement</span> <span id=\"al2_al2_s2_7\" data-ref=\"ref_5al2_\" class=\"aligned\" >européen</span> <span id=\"al2_al2_s2_8\" data-ref=\"ref_2al2_\" class=\"aligned\" >qui</span> <span id=\"al2_al2_s2_9\" data-ref=\"ref_2al2_\" class=\"aligned\" >avait</span> <span id=\"al2_al2_s2_10\" data-ref=\"ref_2al2_\" class=\"aligned\" >été</span> <span id=\"al2_al2_s2_11\" data-ref=\"ref_2al2_\" class=\"aligned\" >interrompue</span> <span id=\"al2_al2_s2_12\" data-ref=\"ref_15al2_\" class=\"aligned\" >le</span> <span id=\"al2_al2_s2_13\" data-ref=\"ref_21al2_\" class=\"aligned\" >vendredi</span> <span id=\"al2_al2_s2_14\" data-ref=\"ref_23al2_\" class=\"aligned\" >17</span> <span id=\"al2_al2_s2_15\" data-ref=\"ref_24al2_\" class=\"aligned\" >décembre</span> <span id=\"al2_al2_s2_16\" data-ref=\"ref_28al2_\" class=\"aligned\" >dernier</span> <span id=\"al2_al2_s2_17\" data-ref=\"ref_9al2_\" class=\"aligned\" >et</span> <span id=\"al2_al2_s2_18\" data-ref=\"ref_27al2_\" class=\"aligned\" >je</span> <span id=\"al2_al2_s2_19\" data-ref=\"ref_8al2_\" class=\"aligned\" >vous</span> <span id=\"al2_al2_s2_20\" data-ref=\"ref_3al2_\" class=\"aligned\" >renouvelle</span> <span id=\"al2_al2_s2_21\" data-ref=\"al2_\" class=\"\" >tous</span> <span id=\"al2_al2_s2_22\" data-ref=\"al2_\" class=\"\" >mes</span> <span id=\"al2_al2_s2_23\" data-ref=\"al2_\" class=\"\" >vux</span> <span id=\"al2_al2_s2_24\" data-ref=\"ref_30al2_\" class=\"aligned\" >en</span> <span id=\"al2_al2_s2_25\" data-ref=\"ref_17al2_\" class=\"aligned\" >espérant</span> <span id=\"al2_al2_s2_26\" data-ref=\"ref_0al2_\" class=\"aligned\" >que</span> <span id=\"al2_al2_s2_27\" data-ref=\"ref_4al2_\" class=\"aligned\" >vous</span> <span id=\"al2_al2_s2_28\" data-ref=\"ref_4al2_\" class=\"aligned\" >avez</span> <span id=\"al2_al2_s2_29\" data-ref=\"ref_11al2_\" class=\"aligned\" >passé</span> <span id=\"al2_al2_s2_30\" data-ref=\"ref_29al2_\" class=\"aligned\" >de</span> <span id=\"al2_al2_s2_31\" data-ref=\"al2_\" class=\"\" >bonnes</span> <span id=\"al2_al2_s2_32\" data-ref=\"ref_6al2_\" class=\"aligned\" >vacances</span> <span id=\"al2_al2_s2_33\" data-ref=\"ref_1al2_\" class=\"aligned\" >.</span></div></div>"
      ],
      "text/plain": [
       "<IPython.core.display.HTML object>"
      ]
     },
     "metadata": {},
     "output_type": "display_data"
    },
    {
     "data": {
      "text/html": [
       "<div class=\"row alignment\"><div class=\"col-md-5\"><span id=\"al3_s1_0\" data-ref=\"ref_11al3_\" class=\"aligned\" >You</span> <span id=\"al3_s1_1\" data-ref=\"ref_11al3_\" class=\"aligned\" >have</span> <span id=\"al3_s1_2\" data-ref=\"ref_9al3_\" class=\"aligned\" >requested</span> <span id=\"al3_s1_3\" data-ref=\"ref_4al3_\" class=\"aligned\" >a</span> <span id=\"al3_s1_4\" data-ref=\"ref_6al3_\" class=\"aligned\" >debate</span> <span id=\"al3_s1_5\" data-ref=\"ref_5al3_\" class=\"aligned\" >on</span> <span id=\"al3_s1_6\" data-ref=\"ref_1al3_\" class=\"aligned\" >this</span> <span id=\"al3_s1_7\" data-ref=\"ref_3al3_\" class=\"aligned\" >subject</span> <span id=\"al3_s1_8\" data-ref=\"ref_18al3_\" class=\"aligned\" >in</span> <span id=\"al3_s1_9\" data-ref=\"ref_17al3_\" class=\"aligned\" >the</span> <span id=\"al3_s1_10\" data-ref=\"ref_13al3_\" class=\"aligned\" >course</span> <span id=\"al3_s1_11\" data-ref=\"al3_\" class=\"\" >of</span> <span id=\"al3_s1_12\" data-ref=\"al3_\" class=\"\" >the</span> <span id=\"al3_s1_13\" data-ref=\"ref_13al3_\" class=\"aligned\" >next</span> <span id=\"al3_s1_14\" data-ref=\"ref_13al3_\" class=\"aligned\" >few</span> <span id=\"al3_s1_15\" data-ref=\"ref_7al3_\" class=\"aligned\" >days</span> <span id=\"al3_s1_16\" data-ref=\"ref_15al3_\" class=\"aligned\" >,</span> <span id=\"al3_s1_17\" data-ref=\"ref_10al3_\" class=\"aligned\" >during</span> <span id=\"al3_s1_18\" data-ref=\"ref_8al3_\" class=\"aligned\" >this</span> <span id=\"al3_s1_19\" data-ref=\"ref_0al3_\" class=\"aligned\" >part-session</span> <span id=\"al3_s1_20\" data-ref=\"ref_2al3_\" class=\"aligned\" >.</span></div><div class=\"col-md-2\"></div><div class=\"col-md-5\"><span id=\"al3_al3_s2_0\" data-ref=\"al3_\" class=\"\" >Vous</span> <span id=\"al3_al3_s2_1\" data-ref=\"ref_11al3_\" class=\"aligned\" >avez</span> <span id=\"al3_al3_s2_2\" data-ref=\"ref_9al3_\" class=\"aligned\" >souhaité</span> <span id=\"al3_al3_s2_3\" data-ref=\"ref_4al3_\" class=\"aligned\" >un</span> <span id=\"al3_al3_s2_4\" data-ref=\"ref_6al3_\" class=\"aligned\" >débat</span> <span id=\"al3_al3_s2_5\" data-ref=\"ref_5al3_\" class=\"aligned\" >à</span> <span id=\"al3_al3_s2_6\" data-ref=\"ref_1al3_\" class=\"aligned\" >ce</span> <span id=\"al3_al3_s2_7\" data-ref=\"ref_3al3_\" class=\"aligned\" >sujet</span> <span id=\"al3_al3_s2_8\" data-ref=\"ref_18al3_\" class=\"aligned\" >dans</span> <span id=\"al3_al3_s2_9\" data-ref=\"ref_17al3_\" class=\"aligned\" >les</span> <span id=\"al3_al3_s2_10\" data-ref=\"ref_13al3_\" class=\"aligned\" >prochains</span> <span id=\"al3_al3_s2_11\" data-ref=\"ref_7al3_\" class=\"aligned\" >jours</span> <span id=\"al3_al3_s2_12\" data-ref=\"ref_15al3_\" class=\"aligned\" >,</span> <span id=\"al3_al3_s2_13\" data-ref=\"ref_10al3_\" class=\"aligned\" >au</span> <span id=\"al3_al3_s2_14\" data-ref=\"ref_10al3_\" class=\"aligned\" >cours</span> <span id=\"al3_al3_s2_15\" data-ref=\"al3_\" class=\"\" >de</span> <span id=\"al3_al3_s2_16\" data-ref=\"ref_8al3_\" class=\"aligned\" >cette</span> <span id=\"al3_al3_s2_17\" data-ref=\"ref_0al3_\" class=\"aligned\" >période</span> <span id=\"al3_al3_s2_18\" data-ref=\"ref_0al3_\" class=\"aligned\" >de</span> <span id=\"al3_al3_s2_19\" data-ref=\"ref_0al3_\" class=\"aligned\" >session</span> <span id=\"al3_al3_s2_20\" data-ref=\"ref_2al3_\" class=\"aligned\" >.</span></div></div>"
      ],
      "text/plain": [
       "<IPython.core.display.HTML object>"
      ]
     },
     "metadata": {},
     "output_type": "display_data"
    },
    {
     "data": {
      "text/html": [
       "<div class=\"row alignment\"><div class=\"col-md-5\"><span id=\"al4_s1_0\" data-ref=\"ref_0al4_\" class=\"aligned\" >Please</span> <span id=\"al4_s1_1\" data-ref=\"ref_7al4_\" class=\"aligned\" >rise</span> <span id=\"al4_s1_2\" data-ref=\"al4_\" class=\"\" >,</span> <span id=\"al4_s1_3\" data-ref=\"al4_\" class=\"\" >then</span> <span id=\"al4_s1_4\" data-ref=\"al4_\" class=\"\" >,</span> <span id=\"al4_s1_5\" data-ref=\"ref_4al4_\" class=\"aligned\" >for</span> <span id=\"al4_s1_6\" data-ref=\"ref_1al4_\" class=\"aligned\" >this</span> <span id=\"al4_s1_7\" data-ref=\"ref_8al4_\" class=\"aligned\" >minute</span> <span id=\"al4_s1_8\" data-ref=\"ref_3al4_\" class=\"aligned\" >'</span> <span id=\"al4_s1_9\" data-ref=\"ref_3al4_\" class=\"aligned\" >s</span> <span id=\"al4_s1_10\" data-ref=\"ref_3al4_\" class=\"aligned\" >silence</span> <span id=\"al4_s1_11\" data-ref=\"ref_2al4_\" class=\"aligned\" >.</span></div><div class=\"col-md-2\"></div><div class=\"col-md-5\"><span id=\"al4_al4_s2_0\" data-ref=\"ref_0al4_\" class=\"aligned\" >Je</span> <span id=\"al4_al4_s2_1\" data-ref=\"ref_0al4_\" class=\"aligned\" >vous</span> <span id=\"al4_al4_s2_2\" data-ref=\"ref_0al4_\" class=\"aligned\" >invite</span> <span id=\"al4_al4_s2_3\" data-ref=\"al4_\" class=\"\" >à</span> <span id=\"al4_al4_s2_4\" data-ref=\"ref_0al4_\" class=\"aligned\" >vous</span> <span id=\"al4_al4_s2_5\" data-ref=\"ref_7al4_\" class=\"aligned\" >lever</span> <span id=\"al4_al4_s2_6\" data-ref=\"ref_4al4_\" class=\"aligned\" >pour</span> <span id=\"al4_al4_s2_7\" data-ref=\"ref_1al4_\" class=\"aligned\" >cette</span> <span id=\"al4_al4_s2_8\" data-ref=\"ref_8al4_\" class=\"aligned\" >minute</span> <span id=\"al4_al4_s2_9\" data-ref=\"al4_\" class=\"\" >de</span> <span id=\"al4_al4_s2_10\" data-ref=\"ref_3al4_\" class=\"aligned\" >silence</span> <span id=\"al4_al4_s2_11\" data-ref=\"ref_2al4_\" class=\"aligned\" >.</span></div></div>"
      ],
      "text/plain": [
       "<IPython.core.display.HTML object>"
      ]
     },
     "metadata": {},
     "output_type": "display_data"
    },
    {
     "data": {
      "text/html": [
       "<div class=\"row alignment\"><div class=\"col-md-5\"><span id=\"al5_s1_0\" data-ref=\"ref_1al5_\" class=\"aligned\" >(</span> <span id=\"al5_s1_1\" data-ref=\"ref_11al5_\" class=\"aligned\" >The</span> <span id=\"al5_s1_2\" data-ref=\"ref_10al5_\" class=\"aligned\" >House</span> <span id=\"al5_s1_3\" data-ref=\"ref_3al5_\" class=\"aligned\" >rose</span> <span id=\"al5_s1_4\" data-ref=\"ref_3al5_\" class=\"aligned\" >and</span> <span id=\"al5_s1_5\" data-ref=\"ref_7al5_\" class=\"aligned\" >observed</span> <span id=\"al5_s1_6\" data-ref=\"ref_2al5_\" class=\"aligned\" >a</span> <span id=\"al5_s1_7\" data-ref=\"ref_0al5_\" class=\"aligned\" >minute</span> <span id=\"al5_s1_8\" data-ref=\"ref_5al5_\" class=\"aligned\" >'</span> <span id=\"al5_s1_9\" data-ref=\"ref_5al5_\" class=\"aligned\" >s</span> <span id=\"al5_s1_10\" data-ref=\"ref_5al5_\" class=\"aligned\" >silence</span> <span id=\"al5_s1_11\" data-ref=\"ref_4al5_\" class=\"aligned\" >)</span></div><div class=\"col-md-2\"></div><div class=\"col-md-5\"><span id=\"al5_al5_s2_0\" data-ref=\"ref_1al5_\" class=\"aligned\" >(</span> <span id=\"al5_al5_s2_1\" data-ref=\"ref_11al5_\" class=\"aligned\" >Le</span> <span id=\"al5_al5_s2_2\" data-ref=\"ref_10al5_\" class=\"aligned\" >Parlement</span> <span id=\"al5_al5_s2_3\" data-ref=\"ref_3al5_\" class=\"aligned\" >,</span> <span id=\"al5_al5_s2_4\" data-ref=\"ref_3al5_\" class=\"aligned\" >debout</span> <span id=\"al5_al5_s2_5\" data-ref=\"al5_\" class=\"\" >,</span> <span id=\"al5_al5_s2_6\" data-ref=\"ref_7al5_\" class=\"aligned\" >observe</span> <span id=\"al5_al5_s2_7\" data-ref=\"ref_2al5_\" class=\"aligned\" >une</span> <span id=\"al5_al5_s2_8\" data-ref=\"ref_0al5_\" class=\"aligned\" >minute</span> <span id=\"al5_al5_s2_9\" data-ref=\"al5_\" class=\"\" >de</span> <span id=\"al5_al5_s2_10\" data-ref=\"ref_5al5_\" class=\"aligned\" >silence</span> <span id=\"al5_al5_s2_11\" data-ref=\"ref_4al5_\" class=\"aligned\" >)</span></div></div>"
      ],
      "text/plain": [
       "<IPython.core.display.HTML object>"
      ]
     },
     "metadata": {},
     "output_type": "display_data"
    },
    {
     "data": {
      "text/html": [
       "<div class=\"row alignment\"><div class=\"col-md-5\"><span id=\"al6_s1_0\" data-ref=\"ref_1al6_\" class=\"aligned\" >Madam</span> <span id=\"al6_s1_1\" data-ref=\"ref_0al6_\" class=\"aligned\" >President</span> <span id=\"al6_s1_2\" data-ref=\"ref_6al6_\" class=\"aligned\" >,</span> <span id=\"al6_s1_3\" data-ref=\"ref_7al6_\" class=\"aligned\" >on</span> <span id=\"al6_s1_4\" data-ref=\"ref_2al6_\" class=\"aligned\" >a</span> <span id=\"al6_s1_5\" data-ref=\"ref_4al6_\" class=\"aligned\" >point</span> <span id=\"al6_s1_6\" data-ref=\"ref_3al6_\" class=\"aligned\" >of</span> <span id=\"al6_s1_7\" data-ref=\"ref_8al6_\" class=\"aligned\" >order</span> <span id=\"al6_s1_8\" data-ref=\"ref_5al6_\" class=\"aligned\" >.</span></div><div class=\"col-md-2\"></div><div class=\"col-md-5\"><span id=\"al6_al6_s2_0\" data-ref=\"ref_1al6_\" class=\"aligned\" >Madame</span> <span id=\"al6_al6_s2_1\" data-ref=\"ref_0al6_\" class=\"aligned\" >la</span> <span id=\"al6_al6_s2_2\" data-ref=\"ref_0al6_\" class=\"aligned\" >Présidente</span> <span id=\"al6_al6_s2_3\" data-ref=\"ref_6al6_\" class=\"aligned\" >,</span> <span id=\"al6_al6_s2_4\" data-ref=\"ref_7al6_\" class=\"aligned\" >c'</span> <span id=\"al6_al6_s2_5\" data-ref=\"al6_\" class=\"\" >est</span> <span id=\"al6_al6_s2_6\" data-ref=\"ref_2al6_\" class=\"aligned\" >une</span> <span id=\"al6_al6_s2_7\" data-ref=\"ref_4al6_\" class=\"aligned\" >motion</span> <span id=\"al6_al6_s2_8\" data-ref=\"ref_3al6_\" class=\"aligned\" >de</span> <span id=\"al6_al6_s2_9\" data-ref=\"ref_8al6_\" class=\"aligned\" >procédure</span> <span id=\"al6_al6_s2_10\" data-ref=\"ref_5al6_\" class=\"aligned\" >.</span></div></div>"
      ],
      "text/plain": [
       "<IPython.core.display.HTML object>"
      ]
     },
     "metadata": {},
     "output_type": "display_data"
    },
    {
     "data": {
      "text/html": [
       "<div class=\"row alignment\"><div class=\"col-md-5\"><span id=\"al7_s1_0\" data-ref=\"ref_17al7_\" class=\"aligned\" >You</span> <span id=\"al7_s1_1\" data-ref=\"al7_\" class=\"\" >will</span> <span id=\"al7_s1_2\" data-ref=\"ref_15al7_\" class=\"aligned\" >be</span> <span id=\"al7_s1_3\" data-ref=\"ref_10al7_\" class=\"aligned\" >aware</span> <span id=\"al7_s1_4\" data-ref=\"ref_12al7_\" class=\"aligned\" >from</span> <span id=\"al7_s1_5\" data-ref=\"ref_11al7_\" class=\"aligned\" >the</span> <span id=\"al7_s1_6\" data-ref=\"ref_3al7_\" class=\"aligned\" >press</span> <span id=\"al7_s1_7\" data-ref=\"ref_4al7_\" class=\"aligned\" >and</span> <span id=\"al7_s1_8\" data-ref=\"ref_5al7_\" class=\"aligned\" >television</span> <span id=\"al7_s1_9\" data-ref=\"ref_14al7_\" class=\"aligned\" >that</span> <span id=\"al7_s1_10\" data-ref=\"ref_7al7_\" class=\"aligned\" >there</span> <span id=\"al7_s1_11\" data-ref=\"ref_6al7_\" class=\"aligned\" >have</span> <span id=\"al7_s1_12\" data-ref=\"ref_9al7_\" class=\"aligned\" >been</span> <span id=\"al7_s1_13\" data-ref=\"ref_7al7_\" class=\"aligned\" >a</span> <span id=\"al7_s1_14\" data-ref=\"ref_7al7_\" class=\"aligned\" >number</span> <span id=\"al7_s1_15\" data-ref=\"ref_0al7_\" class=\"aligned\" >of</span> <span id=\"al7_s1_16\" data-ref=\"ref_1al7_\" class=\"aligned\" >bomb</span> <span id=\"al7_s1_17\" data-ref=\"ref_0al7_\" class=\"aligned\" >explosions</span> <span id=\"al7_s1_18\" data-ref=\"ref_20al7_\" class=\"aligned\" >and</span> <span id=\"al7_s1_19\" data-ref=\"ref_8al7_\" class=\"aligned\" >killings</span> <span id=\"al7_s1_20\" data-ref=\"ref_18al7_\" class=\"aligned\" >in</span> <span id=\"al7_s1_21\" data-ref=\"ref_2al7_\" class=\"aligned\" >Sri</span> <span id=\"al7_s1_22\" data-ref=\"ref_2al7_\" class=\"aligned\" >Lanka</span> <span id=\"al7_s1_23\" data-ref=\"ref_16al7_\" class=\"aligned\" >.</span></div><div class=\"col-md-2\"></div><div class=\"col-md-5\"><span id=\"al7_al7_s2_0\" data-ref=\"ref_17al7_\" class=\"aligned\" >Vous</span> <span id=\"al7_al7_s2_1\" data-ref=\"ref_17al7_\" class=\"aligned\" >avez</span> <span id=\"al7_al7_s2_2\" data-ref=\"ref_15al7_\" class=\"aligned\" >probablement</span> <span id=\"al7_al7_s2_3\" data-ref=\"ref_10al7_\" class=\"aligned\" >appris</span> <span id=\"al7_al7_s2_4\" data-ref=\"ref_12al7_\" class=\"aligned\" >par</span> <span id=\"al7_al7_s2_5\" data-ref=\"ref_11al7_\" class=\"aligned\" >la</span> <span id=\"al7_al7_s2_6\" data-ref=\"ref_3al7_\" class=\"aligned\" >presse</span> <span id=\"al7_al7_s2_7\" data-ref=\"ref_4al7_\" class=\"aligned\" >et</span> <span id=\"al7_al7_s2_8\" data-ref=\"al7_\" class=\"\" >par</span> <span id=\"al7_al7_s2_9\" data-ref=\"ref_5al7_\" class=\"aligned\" >la</span> <span id=\"al7_al7_s2_10\" data-ref=\"ref_5al7_\" class=\"aligned\" >télévision</span> <span id=\"al7_al7_s2_11\" data-ref=\"ref_14al7_\" class=\"aligned\" >que</span> <span id=\"al7_al7_s2_12\" data-ref=\"ref_7al7_\" class=\"aligned\" >plusieurs</span> <span id=\"al7_al7_s2_13\" data-ref=\"ref_0al7_\" class=\"aligned\" >attentats</span> <span id=\"al7_al7_s2_14\" data-ref=\"ref_1al7_\" class=\"aligned\" >à</span> <span id=\"al7_al7_s2_15\" data-ref=\"ref_1al7_\" class=\"aligned\" >la</span> <span id=\"al7_al7_s2_16\" data-ref=\"ref_1al7_\" class=\"aligned\" >bombe</span> <span id=\"al7_al7_s2_17\" data-ref=\"ref_20al7_\" class=\"aligned\" >et</span> <span id=\"al7_al7_s2_18\" data-ref=\"ref_8al7_\" class=\"aligned\" >crimes</span> <span id=\"al7_al7_s2_19\" data-ref=\"ref_6al7_\" class=\"aligned\" >ont</span> <span id=\"al7_al7_s2_20\" data-ref=\"ref_9al7_\" class=\"aligned\" >été</span> <span id=\"al7_al7_s2_21\" data-ref=\"ref_8al7_\" class=\"aligned\" >perpétrés</span> <span id=\"al7_al7_s2_22\" data-ref=\"ref_18al7_\" class=\"aligned\" >au</span> <span id=\"al7_al7_s2_23\" data-ref=\"ref_2al7_\" class=\"aligned\" >Sri</span> <span id=\"al7_al7_s2_24\" data-ref=\"al7_\" class=\"\" >Lanka</span> <span id=\"al7_al7_s2_25\" data-ref=\"ref_16al7_\" class=\"aligned\" >.</span></div></div>"
      ],
      "text/plain": [
       "<IPython.core.display.HTML object>"
      ]
     },
     "metadata": {},
     "output_type": "display_data"
    },
    {
     "data": {
      "text/html": [
       "<div class=\"row alignment\"><div class=\"col-md-5\"><span id=\"al8_s1_0\" data-ref=\"ref_12al8_\" class=\"aligned\" >One</span> <span id=\"al8_s1_1\" data-ref=\"ref_2al8_\" class=\"aligned\" >of</span> <span id=\"al8_s1_2\" data-ref=\"ref_2al8_\" class=\"aligned\" >the</span> <span id=\"al8_s1_3\" data-ref=\"ref_4al8_\" class=\"aligned\" >people</span> <span id=\"al8_s1_4\" data-ref=\"ref_0al8_\" class=\"aligned\" >assassinated</span> <span id=\"al8_s1_5\" data-ref=\"al8_\" class=\"\" >very</span> <span id=\"al8_s1_6\" data-ref=\"al8_\" class=\"\" >recently</span> <span id=\"al8_s1_7\" data-ref=\"ref_20al8_\" class=\"aligned\" >in</span> <span id=\"al8_s1_8\" data-ref=\"ref_6al8_\" class=\"aligned\" >Sri</span> <span id=\"al8_s1_9\" data-ref=\"ref_6al8_\" class=\"aligned\" >Lanka</span> <span id=\"al8_s1_10\" data-ref=\"ref_7al8_\" class=\"aligned\" >was</span> <span id=\"al8_s1_11\" data-ref=\"ref_11al8_\" class=\"aligned\" >Mr</span> <span id=\"al8_s1_12\" data-ref=\"ref_13al8_\" class=\"aligned\" >Kumar</span> <span id=\"al8_s1_13\" data-ref=\"ref_16al8_\" class=\"aligned\" >Ponnambalam</span> <span id=\"al8_s1_14\" data-ref=\"ref_21al8_\" class=\"aligned\" >,</span> <span id=\"al8_s1_15\" data-ref=\"ref_19al8_\" class=\"aligned\" >who</span> <span id=\"al8_s1_16\" data-ref=\"ref_10al8_\" class=\"aligned\" >had</span> <span id=\"al8_s1_17\" data-ref=\"ref_1al8_\" class=\"aligned\" >visited</span> <span id=\"al8_s1_18\" data-ref=\"ref_18al8_\" class=\"aligned\" >the</span> <span id=\"al8_s1_19\" data-ref=\"ref_24al8_\" class=\"aligned\" >European</span> <span id=\"al8_s1_20\" data-ref=\"ref_14al8_\" class=\"aligned\" >Parliament</span> <span id=\"al8_s1_21\" data-ref=\"ref_22al8_\" class=\"aligned\" >just</span> <span id=\"al8_s1_22\" data-ref=\"ref_5al8_\" class=\"aligned\" >a</span> <span id=\"al8_s1_23\" data-ref=\"ref_5al8_\" class=\"aligned\" >few</span> <span id=\"al8_s1_24\" data-ref=\"ref_15al8_\" class=\"aligned\" >months</span> <span id=\"al8_s1_25\" data-ref=\"ref_3al8_\" class=\"aligned\" >ago</span> <span id=\"al8_s1_26\" data-ref=\"ref_23al8_\" class=\"aligned\" >.</span></div><div class=\"col-md-2\"></div><div class=\"col-md-5\"><span id=\"al8_al8_s2_0\" data-ref=\"ref_12al8_\" class=\"aligned\" >L'</span> <span id=\"al8_al8_s2_1\" data-ref=\"ref_12al8_\" class=\"aligned\" >une</span> <span id=\"al8_al8_s2_2\" data-ref=\"ref_2al8_\" class=\"aligned\" >des</span> <span id=\"al8_al8_s2_3\" data-ref=\"ref_4al8_\" class=\"aligned\" >personnes</span> <span id=\"al8_al8_s2_4\" data-ref=\"al8_\" class=\"\" >qui</span> <span id=\"al8_al8_s2_5\" data-ref=\"al8_\" class=\"\" >vient</span> <span id=\"al8_al8_s2_6\" data-ref=\"al8_\" class=\"\" >d'</span> <span id=\"al8_al8_s2_7\" data-ref=\"ref_0al8_\" class=\"aligned\" >être</span> <span id=\"al8_al8_s2_8\" data-ref=\"ref_0al8_\" class=\"aligned\" >assassinée</span> <span id=\"al8_al8_s2_9\" data-ref=\"ref_20al8_\" class=\"aligned\" >au</span> <span id=\"al8_al8_s2_10\" data-ref=\"ref_6al8_\" class=\"aligned\" >Sri</span> <span id=\"al8_al8_s2_11\" data-ref=\"ref_6al8_\" class=\"aligned\" >Lanka</span> <span id=\"al8_al8_s2_12\" data-ref=\"ref_7al8_\" class=\"aligned\" >est</span> <span id=\"al8_al8_s2_13\" data-ref=\"ref_11al8_\" class=\"aligned\" >M.</span> <span id=\"al8_al8_s2_14\" data-ref=\"ref_13al8_\" class=\"aligned\" >Kumar</span> <span id=\"al8_al8_s2_15\" data-ref=\"ref_16al8_\" class=\"aligned\" >Ponnambalam</span> <span id=\"al8_al8_s2_16\" data-ref=\"ref_21al8_\" class=\"aligned\" >,</span> <span id=\"al8_al8_s2_17\" data-ref=\"ref_19al8_\" class=\"aligned\" >qui</span> <span id=\"al8_al8_s2_18\" data-ref=\"ref_10al8_\" class=\"aligned\" >avait</span> <span id=\"al8_al8_s2_19\" data-ref=\"ref_1al8_\" class=\"aligned\" >rendu</span> <span id=\"al8_al8_s2_20\" data-ref=\"ref_1al8_\" class=\"aligned\" >visite</span> <span id=\"al8_al8_s2_21\" data-ref=\"ref_18al8_\" class=\"aligned\" >au</span> <span id=\"al8_al8_s2_22\" data-ref=\"ref_14al8_\" class=\"aligned\" >Parlement</span> <span id=\"al8_al8_s2_23\" data-ref=\"ref_24al8_\" class=\"aligned\" >européen</span> <span id=\"al8_al8_s2_24\" data-ref=\"al8_\" class=\"\" >il</span> <span id=\"al8_al8_s2_25\" data-ref=\"al8_\" class=\"\" >y</span> <span id=\"al8_al8_s2_26\" data-ref=\"al8_\" class=\"\" >a</span> <span id=\"al8_al8_s2_27\" data-ref=\"ref_5al8_\" class=\"aligned\" >quelques</span> <span id=\"al8_al8_s2_28\" data-ref=\"ref_15al8_\" class=\"aligned\" >mois</span> <span id=\"al8_al8_s2_29\" data-ref=\"ref_22al8_\" class=\"aligned\" >à</span> <span id=\"al8_al8_s2_30\" data-ref=\"ref_3al8_\" class=\"aligned\" >peine</span> <span id=\"al8_al8_s2_31\" data-ref=\"ref_23al8_\" class=\"aligned\" >.</span></div></div>"
      ],
      "text/plain": [
       "<IPython.core.display.HTML object>"
      ]
     },
     "metadata": {},
     "output_type": "display_data"
    },
    {
     "data": {
      "text/html": [
       "<div class=\"row alignment\"><div class=\"col-md-5\"><span id=\"al9_s1_0\" data-ref=\"ref_12al9_\" class=\"aligned\" >Yes</span> <span id=\"al9_s1_1\" data-ref=\"ref_11al9_\" class=\"aligned\" >,</span> <span id=\"al9_s1_2\" data-ref=\"ref_9al9_\" class=\"aligned\" >Mr</span> <span id=\"al9_s1_3\" data-ref=\"ref_5al9_\" class=\"aligned\" >Evans</span> <span id=\"al9_s1_4\" data-ref=\"ref_8al9_\" class=\"aligned\" >,</span> <span id=\"al9_s1_5\" data-ref=\"ref_6al9_\" class=\"aligned\" >I</span> <span id=\"al9_s1_6\" data-ref=\"ref_1al9_\" class=\"aligned\" >feel</span> <span id=\"al9_s1_7\" data-ref=\"ref_20al9_\" class=\"aligned\" >an</span> <span id=\"al9_s1_8\" data-ref=\"ref_2al9_\" class=\"aligned\" >initiative</span> <span id=\"al9_s1_9\" data-ref=\"ref_14al9_\" class=\"aligned\" >of</span> <span id=\"al9_s1_10\" data-ref=\"ref_0al9_\" class=\"aligned\" >the</span> <span id=\"al9_s1_11\" data-ref=\"ref_16al9_\" class=\"aligned\" >type</span> <span id=\"al9_s1_12\" data-ref=\"ref_7al9_\" class=\"aligned\" >you</span> <span id=\"al9_s1_13\" data-ref=\"ref_13al9_\" class=\"aligned\" >have</span> <span id=\"al9_s1_14\" data-ref=\"ref_13al9_\" class=\"aligned\" >just</span> <span id=\"al9_s1_15\" data-ref=\"ref_17al9_\" class=\"aligned\" >suggested</span> <span id=\"al9_s1_16\" data-ref=\"ref_10al9_\" class=\"aligned\" >would</span> <span id=\"al9_s1_17\" data-ref=\"ref_10al9_\" class=\"aligned\" >be</span> <span id=\"al9_s1_18\" data-ref=\"ref_3al9_\" class=\"aligned\" >entirely</span> <span id=\"al9_s1_19\" data-ref=\"ref_4al9_\" class=\"aligned\" >appropriate</span> <span id=\"al9_s1_20\" data-ref=\"ref_19al9_\" class=\"aligned\" >.</span></div><div class=\"col-md-2\"></div><div class=\"col-md-5\"><span id=\"al9_al9_s2_0\" data-ref=\"ref_12al9_\" class=\"aligned\" >Oui</span> <span id=\"al9_al9_s2_1\" data-ref=\"ref_11al9_\" class=\"aligned\" >,</span> <span id=\"al9_al9_s2_2\" data-ref=\"ref_9al9_\" class=\"aligned\" >Monsieur</span> <span id=\"al9_al9_s2_3\" data-ref=\"ref_5al9_\" class=\"aligned\" >Evans</span> <span id=\"al9_al9_s2_4\" data-ref=\"ref_8al9_\" class=\"aligned\" >,</span> <span id=\"al9_al9_s2_5\" data-ref=\"ref_6al9_\" class=\"aligned\" >je</span> <span id=\"al9_al9_s2_6\" data-ref=\"ref_1al9_\" class=\"aligned\" >pense</span> <span id=\"al9_al9_s2_7\" data-ref=\"ref_1al9_\" class=\"aligned\" >qu'</span> <span id=\"al9_al9_s2_8\" data-ref=\"ref_20al9_\" class=\"aligned\" >une</span> <span id=\"al9_al9_s2_9\" data-ref=\"ref_2al9_\" class=\"aligned\" >initiative</span> <span id=\"al9_al9_s2_10\" data-ref=\"ref_14al9_\" class=\"aligned\" >dans</span> <span id=\"al9_al9_s2_11\" data-ref=\"ref_0al9_\" class=\"aligned\" >le</span> <span id=\"al9_al9_s2_12\" data-ref=\"ref_16al9_\" class=\"aligned\" >sens</span> <span id=\"al9_al9_s2_13\" data-ref=\"ref_7al9_\" class=\"aligned\" >que</span> <span id=\"al9_al9_s2_14\" data-ref=\"ref_7al9_\" class=\"aligned\" >vous</span> <span id=\"al9_al9_s2_15\" data-ref=\"ref_13al9_\" class=\"aligned\" >venez</span> <span id=\"al9_al9_s2_16\" data-ref=\"al9_\" class=\"\" >de</span> <span id=\"al9_al9_s2_17\" data-ref=\"ref_17al9_\" class=\"aligned\" >suggérer</span> <span id=\"al9_al9_s2_18\" data-ref=\"ref_10al9_\" class=\"aligned\" >serait</span> <span id=\"al9_al9_s2_19\" data-ref=\"ref_3al9_\" class=\"aligned\" >tout</span> <span id=\"al9_al9_s2_20\" data-ref=\"ref_3al9_\" class=\"aligned\" >à</span> <span id=\"al9_al9_s2_21\" data-ref=\"ref_3al9_\" class=\"aligned\" >fait</span> <span id=\"al9_al9_s2_22\" data-ref=\"ref_4al9_\" class=\"aligned\" >appropriée</span> <span id=\"al9_al9_s2_23\" data-ref=\"ref_19al9_\" class=\"aligned\" >.</span></div></div>"
      ],
      "text/plain": [
       "<IPython.core.display.HTML object>"
      ]
     },
     "metadata": {},
     "output_type": "display_data"
    },
    {
     "data": {
      "text/html": [
       "<div class=\"row alignment\"><div class=\"col-md-5\"><span id=\"al10_s1_0\" data-ref=\"ref_1al10_\" class=\"aligned\" >If</span> <span id=\"al10_s1_1\" data-ref=\"ref_12al10_\" class=\"aligned\" >the</span> <span id=\"al10_s1_2\" data-ref=\"ref_10al10_\" class=\"aligned\" >House</span> <span id=\"al10_s1_3\" data-ref=\"ref_9al10_\" class=\"aligned\" >agrees</span> <span id=\"al10_s1_4\" data-ref=\"ref_0al10_\" class=\"aligned\" >,</span> <span id=\"al10_s1_5\" data-ref=\"ref_13al10_\" class=\"aligned\" >I</span> <span id=\"al10_s1_6\" data-ref=\"ref_2al10_\" class=\"aligned\" >shall</span> <span id=\"al10_s1_7\" data-ref=\"ref_2al10_\" class=\"aligned\" >do</span> <span id=\"al10_s1_8\" data-ref=\"ref_5al10_\" class=\"aligned\" >as</span> <span id=\"al10_s1_9\" data-ref=\"ref_8al10_\" class=\"aligned\" >Mr</span> <span id=\"al10_s1_10\" data-ref=\"ref_6al10_\" class=\"aligned\" >Evans</span> <span id=\"al10_s1_11\" data-ref=\"ref_11al10_\" class=\"aligned\" >has</span> <span id=\"al10_s1_12\" data-ref=\"ref_3al10_\" class=\"aligned\" >suggested</span> <span id=\"al10_s1_13\" data-ref=\"ref_7al10_\" class=\"aligned\" >.</span></div><div class=\"col-md-2\"></div><div class=\"col-md-5\"><span id=\"al10_al10_s2_0\" data-ref=\"ref_1al10_\" class=\"aligned\" >Si</span> <span id=\"al10_al10_s2_1\" data-ref=\"ref_12al10_\" class=\"aligned\" >l'</span> <span id=\"al10_al10_s2_2\" data-ref=\"ref_10al10_\" class=\"aligned\" >Assemblée</span> <span id=\"al10_al10_s2_3\" data-ref=\"al10_\" class=\"\" >en</span> <span id=\"al10_al10_s2_4\" data-ref=\"ref_9al10_\" class=\"aligned\" >est</span> <span id=\"al10_al10_s2_5\" data-ref=\"ref_9al10_\" class=\"aligned\" >d'</span> <span id=\"al10_al10_s2_6\" data-ref=\"ref_9al10_\" class=\"aligned\" >accord</span> <span id=\"al10_al10_s2_7\" data-ref=\"ref_0al10_\" class=\"aligned\" >,</span> <span id=\"al10_al10_s2_8\" data-ref=\"ref_13al10_\" class=\"aligned\" >je</span> <span id=\"al10_al10_s2_9\" data-ref=\"ref_2al10_\" class=\"aligned\" >ferai</span> <span id=\"al10_al10_s2_10\" data-ref=\"ref_5al10_\" class=\"aligned\" >comme</span> <span id=\"al10_al10_s2_11\" data-ref=\"ref_8al10_\" class=\"aligned\" >M.</span> <span id=\"al10_al10_s2_12\" data-ref=\"ref_6al10_\" class=\"aligned\" >Evans</span> <span id=\"al10_al10_s2_13\" data-ref=\"al10_\" class=\"\" >l'</span> <span id=\"al10_al10_s2_14\" data-ref=\"ref_11al10_\" class=\"aligned\" >a</span> <span id=\"al10_al10_s2_15\" data-ref=\"ref_3al10_\" class=\"aligned\" >suggéré</span> <span id=\"al10_al10_s2_16\" data-ref=\"ref_7al10_\" class=\"aligned\" >.</span></div></div>"
      ],
      "text/plain": [
       "<IPython.core.display.HTML object>"
      ]
     },
     "metadata": {},
     "output_type": "display_data"
    }
   ],
   "source": [
    "from ugarit import Ugarit\n",
    "from nltk.corpus import comtrans\n",
    "\n",
    "ugarit = Ugarit()\n",
    "\n",
    "for s in comtrans.aligned_sents('alignment-en-fr.txt')[:10]:\n",
    "    ugarit.render(s)"
   ]
  },
  {
   "cell_type": "code",
   "execution_count": null,
   "metadata": {},
   "outputs": [],
   "source": []
  }
 ],
 "metadata": {
  "kernelspec": {
   "display_name": "Python 3",
   "language": "python",
   "name": "python3"
  },
  "language_info": {
   "codemirror_mode": {
    "name": "ipython",
    "version": 3
   },
   "file_extension": ".py",
   "mimetype": "text/x-python",
   "name": "python",
   "nbconvert_exporter": "python",
   "pygments_lexer": "ipython3",
   "version": "3.6.9"
  }
 },
 "nbformat": 4,
 "nbformat_minor": 2
}
